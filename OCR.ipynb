{
  "nbformat": 4,
  "nbformat_minor": 0,
  "metadata": {
    "colab": {
      "provenance": [],
      "authorship_tag": "ABX9TyM0gTKqmFQBVsUsvMzwB4bA",
      "include_colab_link": true
    },
    "kernelspec": {
      "name": "python3",
      "display_name": "Python 3"
    },
    "language_info": {
      "name": "python"
    }
  },
  "cells": [
    {
      "cell_type": "markdown",
      "metadata": {
        "id": "view-in-github",
        "colab_type": "text"
      },
      "source": [
        "<a href=\"https://colab.research.google.com/github/LonelyFriday/OCR_ElectricityBill/blob/main/OCR.ipynb\" target=\"_parent\"><img src=\"https://colab.research.google.com/assets/colab-badge.svg\" alt=\"Open In Colab\"/></a>"
      ]
    },
    {
      "cell_type": "code",
      "source": [
        "!wget https://www.it24hrs.com/wp-content/uploads/2021/05/warning-do-not-post-bill-to-social-c.jpg\n",
        "!wget https://prismic-io.s3.amazonaws.com/palmettoblog/172693e9-a059-46db-a600-0bc9b0a43bda_base-charge.png"
      ],
      "metadata": {
        "colab": {
          "base_uri": "https://localhost:8080/"
        },
        "id": "AI0FqdxwKHlt",
        "outputId": "51fb9fbd-4bbf-4631-f8b1-dad8e9c7b8f9"
      },
      "execution_count": 4,
      "outputs": [
        {
          "output_type": "stream",
          "name": "stdout",
          "text": [
            "--2024-06-10 17:21:23--  https://www.it24hrs.com/wp-content/uploads/2021/05/warning-do-not-post-bill-to-social-c.jpg\n",
            "Resolving www.it24hrs.com (www.it24hrs.com)... 172.67.160.16, 104.21.14.165, 2606:4700:3032::ac43:a010, ...\n",
            "Connecting to www.it24hrs.com (www.it24hrs.com)|172.67.160.16|:443... connected.\n",
            "HTTP request sent, awaiting response... 200 OK\n",
            "Length: 30637 (30K) [image/jpeg]\n",
            "Saving to: ‘warning-do-not-post-bill-to-social-c.jpg.1’\n",
            "\n",
            "\r          warning-d   0%[                    ]       0  --.-KB/s               \rwarning-do-not-post 100%[===================>]  29.92K  --.-KB/s    in 0.007s  \n",
            "\n",
            "2024-06-10 17:21:23 (4.09 MB/s) - ‘warning-do-not-post-bill-to-social-c.jpg.1’ saved [30637/30637]\n",
            "\n",
            "--2024-06-10 17:21:23--  https://prismic-io.s3.amazonaws.com/palmettoblog/172693e9-a059-46db-a600-0bc9b0a43bda_base-charge.png\n",
            "Resolving prismic-io.s3.amazonaws.com (prismic-io.s3.amazonaws.com)... 52.217.163.25, 16.182.64.249, 52.216.10.91, ...\n",
            "Connecting to prismic-io.s3.amazonaws.com (prismic-io.s3.amazonaws.com)|52.217.163.25|:443... connected.\n",
            "HTTP request sent, awaiting response... 200 OK\n",
            "Length: 248386 (243K) [image/png]\n",
            "Saving to: ‘172693e9-a059-46db-a600-0bc9b0a43bda_base-charge.png’\n",
            "\n",
            "172693e9-a059-46db- 100%[===================>] 242.56K  1.30MB/s    in 0.2s    \n",
            "\n",
            "2024-06-10 17:21:23 (1.30 MB/s) - ‘172693e9-a059-46db-a600-0bc9b0a43bda_base-charge.png’ saved [248386/248386]\n",
            "\n"
          ]
        }
      ]
    },
    {
      "cell_type": "code",
      "execution_count": 16,
      "metadata": {
        "colab": {
          "base_uri": "https://localhost:8080/"
        },
        "id": "hxolkbvKJyhg",
        "outputId": "0139f599-fc4f-40d9-c6b9-47693e775a4d"
      },
      "outputs": [
        {
          "output_type": "stream",
          "name": "stdout",
          "text": [
            "Reading package lists...\n",
            "Building dependency tree...\n",
            "Reading state information...\n",
            "tesseract-ocr-tha is already the newest version (1:4.00~git30-7274cfa-1.1).\n",
            "0 upgraded, 0 newly installed, 0 to remove and 45 not upgraded.\n"
          ]
        }
      ],
      "source": [
        "!pip install pythainlp -q\n",
        "!pip install pyicu -q\n",
        "\n",
        "# Install Tesseract-OCR\n",
        "!apt-get install tesseract-ocr-tha -q\n",
        "\n",
        "# Install pytesseract and OpenCV\n",
        "!pip install pytesseract opencv-python -q"
      ]
    },
    {
      "cell_type": "markdown",
      "source": [
        "# Code"
      ],
      "metadata": {
        "id": "HZv09gYJMg_0"
      }
    },
    {
      "cell_type": "code",
      "source": [
        "import cv2\n",
        "import pytesseract\n",
        "from pythainlp.tokenize import word_tokenize\n",
        "from google.colab.patches import cv2_imshow\n",
        "\n",
        "class ThaiOCR:\n",
        "    def __init__(self, image_path):\n",
        "        self.image_path = image_path\n",
        "        self.image = cv2.imread(image_path)\n",
        "        self.preprocessed_image = None\n",
        "        self.extracted_text = None\n",
        "        self.corrected_text = None\n",
        "\n",
        "    def preprocess_image(self):\n",
        "        # Convert the image to grayscale\n",
        "        gray_image = cv2.cvtColor(self.image, cv2.COLOR_BGR2GRAY)\n",
        "\n",
        "        # Adjust brightness and contrast\n",
        "        alpha = 0.8  # Simple contrast control\n",
        "        beta = 40    # Simple brightness control\n",
        "        adjusted_image = cv2.convertScaleAbs(gray_image, alpha=alpha, beta=beta)\n",
        "\n",
        "        # Apply some preprocessing to improve OCR accuracy\n",
        "        # For example, thresholding\n",
        "        _, thresh_image = cv2.threshold(adjusted_image, 180, 255, cv2.THRESH_BINARY)\n",
        "        self.preprocessed_image = cv2.adaptiveThreshold(thresh_image, 255, cv2.ADAPTIVE_THRESH_MEAN_C, cv2.THRESH_BINARY, 11, 2)\n",
        "\n",
        "    def imshow(self):\n",
        "        cv2_imshow(self.preprocessed_image)\n",
        "\n",
        "    def extract_text_eng(self):\n",
        "        if self.preprocessed_image is None:\n",
        "            raise ValueError(\"Image has not been preprocessed yet.\")\n",
        "        custom_config = r'--oem 3 --psm 6'\n",
        "        self.extracted_text = pytesseract.image_to_string(self.preprocessed_image, config=custom_config)\n",
        "\n",
        "    def extract_text_thai(self):\n",
        "        if self.preprocessed_image is None:\n",
        "            raise ValueError(\"Image has not been preprocessed yet.\")\n",
        "        custom_config = r'--oem 3 --psm 6 -l tha'\n",
        "        self.extracted_text = pytesseract.image_to_string(self.preprocessed_image, config=custom_config)\n",
        "\n",
        "    def correct_text(self):\n",
        "        if self.extracted_text is None:\n",
        "            raise ValueError(\"Text has not been extracted yet.\")\n",
        "        tokens = word_tokenize(self.extracted_text, engine='newmm')\n",
        "        self.corrected_text = ''.join(tokens)\n",
        "\n",
        "    def ocr_and_correct_eng(self):\n",
        "        self.preprocess_image()\n",
        "        self.extract_text_eng()\n",
        "        self.correct_text()\n",
        "        return self.corrected_text\n",
        "\n",
        "    def ocr_and_correct_thai(self):\n",
        "        self.preprocess_image()\n",
        "        self.extract_text_thai()\n",
        "        self.correct_text()\n",
        "        return self.corrected_text"
      ],
      "metadata": {
        "id": "PH07InHhJ5-u"
      },
      "execution_count": null,
      "outputs": []
    },
    {
      "cell_type": "markdown",
      "source": [
        "# Example"
      ],
      "metadata": {
        "id": "3AJrSJ4ZMcw6"
      }
    },
    {
      "cell_type": "markdown",
      "source": [
        "## English"
      ],
      "metadata": {
        "id": "gaMA0o6zMeBQ"
      }
    },
    {
      "cell_type": "code",
      "source": [
        "# Example English\n",
        "image_path = '/content/172693e9-a059-46db-a600-0bc9b0a43bda_base-charge.png'\n",
        "thai_ocr = ThaiOCR(image_path)\n",
        "corrected_text = thai_ocr.ocr_and_correct_eng()\n",
        "thai_ocr.imshow()\n",
        "print(corrected_text)"
      ],
      "metadata": {
        "colab": {
          "base_uri": "https://localhost:8080/",
          "height": 1000
        },
        "id": "TgNAZa0qL_Nt",
        "outputId": "67ec9a44-ab57-4605-bfef-71d5a72a0b40"
      },
      "execution_count": 15,
      "outputs": [
        {
          "output_type": "display_data",
          "data": {
            "text/plain": [
              "<PIL.Image.Image image mode=L size=637x699>"
            ],
            "image/png": "[encoded data removed]"
          },
          "metadata": {}
        },
        {
          "output_type": "stream",
          "name": "stdout",
          "text": [
            "=e sr\n",
            "\n",
            "Amount of your last bill 10.76\n",
            "Payment received - Thank you cree O78\n",
            "Balance before new charges $0.00\n",
            "New Charges\n",
            "Rate: RS-1 RESIDENTIAL SERVICE\n",
            "Base charge: $8.99\n",
            "Minimum base bill: $16.01\n",
            "Non-fuel energy charge:\n",
            "\n",
            "First 1000 Kwh $0.073710 per kWh\n",
            "\n",
            "Over 1000 kWh $0,083710 per kWh\n",
            "Fuel charge:\n",
            "\n",
            "First 1000 kWh $0.034870 per kWh\n",
            "sever ONOF1000 KWH... 80:044870 per kWh\n",
            "Electric service amount 25.00\n",
            "Gross rec. tax/Regulatory fee 0.66\n",
            "Franchise charge 1.52\n",
            "Utility tax 2.72\n",
            "Taxes and charges 4.90\n",
            "Total new charges $29.90\n",
            "Total amount you owe $29.90\n",
            "\n",
            "FPL automatic bill pay - OO NOT PAY\n",
            "\f\n"
          ]
        }
      ]
    },
    {
      "cell_type": "markdown",
      "source": [
        "## Thai"
      ],
      "metadata": {
        "id": "WSBca9iUMfWe"
      }
    },
    {
      "cell_type": "code",
      "source": [
        "# Example Thai OCR\n",
        "image_path = '/content/warning-do-not-post-bill-to-social-c.jpg'\n",
        "thai_ocr = ThaiOCR(image_path)\n",
        "corrected_text = thai_ocr.ocr_and_correct_thai()\n",
        "thai_ocr.imshow()\n",
        "print(corrected_text)"
      ],
      "metadata": {
        "colab": {
          "base_uri": "https://localhost:8080/",
          "height": 1000
        },
        "id": "UtZfiS1mK4nn",
        "outputId": "0032a23b-aa66-4440-93a0-9010c95a4c94"
      },
      "execution_count": 14,
      "outputs": [
        {
          "output_type": "display_data",
          "data": {
            "text/plain": [
              "<PIL.Image.Image image mode=L size=1200x675>"
            ],
            "image/png": "[encoded data removed]"
          },
          "metadata": {}
        },
        {
          "output_type": "stream",
          "name": "stdout",
          "text": [
            "|\n",
            "อใจกส เจโภกค        ..          1\n",
            " เรรกคน. แม   ใบแจ้งค่าไฟฟ้า  |\n",
            "5555  การไฟฟ้ารังสิต   025168657  ว\n",
            "| รือ นายสมมุติ หามทดสอน\n",
            "ต่อยู 9ย9รม09 ตยูกค อเอ้าลูกกาจ.ปทุนธานี 13139         |\n",
            "จหัลการไฟฟ้า ศายรตหนย หนายเลงผู้ใช้ไฟฟ้า  เลขดีใบเจ๊จข | |\n",
            "1 [นออรม\"  เห   นอ 5 1 เศสลท\n",
            "0081401 085โร0เ9 อ20019320099 ลอ0022098363  1\n",
            "1 0 จะเคพ วัน๓รอาถ่านหน่วย แจะจําเดือน | |\n",
            ":   ปล6     เก 1หค กชรร7 ๓ 8 5 | !\n",
            " | 5100622483  อ223900 1115 1ฒอย59 13:59219 อม2559 | |\n",
            "ยละเอียดการใร้ไฟฟ้าเดือนปัจใบน  สาคุณ ประวัติการใช้โฟ |  |\n",
            "อ   ฑาทร      เนปภากฑ์ ไร 1\n",
            "เคนตรั้งหลี#  เลขครั้งกณน 4านวนที่ใช้ 0.0009 วันหีจค ลย | | '\n",
            ":           ๑๒   เ\n",
            "1516000 01284000 รร2008 หนวย รุผยูบ59 129 | |\n",
            "าฒเบ58 169 |\n",
            "า1ฒ1158 ไจ้5 |\n",
            ".             เผา8 141 '\n",
            "|\n",
            "|\n",
            "|\n",
            "\f\n"
          ]
        }
      ]
    }
  ]
}